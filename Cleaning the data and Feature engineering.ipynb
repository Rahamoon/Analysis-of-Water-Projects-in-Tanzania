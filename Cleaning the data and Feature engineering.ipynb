{
 "cells": [
  {
   "cell_type": "markdown",
   "metadata": {},
   "source": [
    "# Cleaning the data\n",
    "\n",
    "I will start by reading the data from all_data.csv which contains the training set and test set joined together."
   ]
  },
  {
   "cell_type": "code",
   "execution_count": 1,
   "metadata": {
    "collapsed": true
   },
   "outputs": [],
   "source": [
    "import settings\n",
    "import os\n",
    "\n",
    "import pandas as pd\n",
    "\n",
    "data = pd.read_csv(os.path.join(settings.PROCESSED_DATA_DIR, \"all_data.csv\"), index_col =0)"
   ]
  },
  {
   "cell_type": "code",
   "execution_count": 2,
   "metadata": {
    "collapsed": false
   },
   "outputs": [
    {
     "name": "stdout",
     "output_type": "stream",
     "text": [
      "(74250, 40)\n"
     ]
    },
    {
     "data": {
      "text/html": [
       "<div>\n",
       "<table border=\"1\" class=\"dataframe\">\n",
       "  <thead>\n",
       "    <tr style=\"text-align: right;\">\n",
       "      <th></th>\n",
       "      <th>amount_tsh</th>\n",
       "      <th>date_recorded</th>\n",
       "      <th>funder</th>\n",
       "      <th>gps_height</th>\n",
       "      <th>installer</th>\n",
       "      <th>longitude</th>\n",
       "      <th>latitude</th>\n",
       "      <th>wpt_name</th>\n",
       "      <th>num_private</th>\n",
       "      <th>basin</th>\n",
       "      <th>...</th>\n",
       "      <th>water_quality</th>\n",
       "      <th>quality_group</th>\n",
       "      <th>quantity</th>\n",
       "      <th>quantity_group</th>\n",
       "      <th>source</th>\n",
       "      <th>source_type</th>\n",
       "      <th>source_class</th>\n",
       "      <th>waterpoint_type</th>\n",
       "      <th>waterpoint_type_group</th>\n",
       "      <th>subset</th>\n",
       "    </tr>\n",
       "    <tr>\n",
       "      <th>id</th>\n",
       "      <th></th>\n",
       "      <th></th>\n",
       "      <th></th>\n",
       "      <th></th>\n",
       "      <th></th>\n",
       "      <th></th>\n",
       "      <th></th>\n",
       "      <th></th>\n",
       "      <th></th>\n",
       "      <th></th>\n",
       "      <th></th>\n",
       "      <th></th>\n",
       "      <th></th>\n",
       "      <th></th>\n",
       "      <th></th>\n",
       "      <th></th>\n",
       "      <th></th>\n",
       "      <th></th>\n",
       "      <th></th>\n",
       "      <th></th>\n",
       "      <th></th>\n",
       "    </tr>\n",
       "  </thead>\n",
       "  <tbody>\n",
       "    <tr>\n",
       "      <th>69572</th>\n",
       "      <td>6000.0</td>\n",
       "      <td>2011-03-14</td>\n",
       "      <td>Roman</td>\n",
       "      <td>1390</td>\n",
       "      <td>Roman</td>\n",
       "      <td>34.938093</td>\n",
       "      <td>-9.856322</td>\n",
       "      <td>none</td>\n",
       "      <td>0</td>\n",
       "      <td>Lake Nyasa</td>\n",
       "      <td>...</td>\n",
       "      <td>soft</td>\n",
       "      <td>good</td>\n",
       "      <td>enough</td>\n",
       "      <td>enough</td>\n",
       "      <td>spring</td>\n",
       "      <td>spring</td>\n",
       "      <td>groundwater</td>\n",
       "      <td>communal standpipe</td>\n",
       "      <td>communal standpipe</td>\n",
       "      <td>training</td>\n",
       "    </tr>\n",
       "    <tr>\n",
       "      <th>8776</th>\n",
       "      <td>0.0</td>\n",
       "      <td>2013-03-06</td>\n",
       "      <td>Grumeti</td>\n",
       "      <td>1399</td>\n",
       "      <td>GRUMETI</td>\n",
       "      <td>34.698766</td>\n",
       "      <td>-2.147466</td>\n",
       "      <td>Zahanati</td>\n",
       "      <td>0</td>\n",
       "      <td>Lake Victoria</td>\n",
       "      <td>...</td>\n",
       "      <td>soft</td>\n",
       "      <td>good</td>\n",
       "      <td>insufficient</td>\n",
       "      <td>insufficient</td>\n",
       "      <td>rainwater harvesting</td>\n",
       "      <td>rainwater harvesting</td>\n",
       "      <td>surface</td>\n",
       "      <td>communal standpipe</td>\n",
       "      <td>communal standpipe</td>\n",
       "      <td>training</td>\n",
       "    </tr>\n",
       "    <tr>\n",
       "      <th>34310</th>\n",
       "      <td>25.0</td>\n",
       "      <td>2013-02-25</td>\n",
       "      <td>Lottery Club</td>\n",
       "      <td>686</td>\n",
       "      <td>World vision</td>\n",
       "      <td>37.460664</td>\n",
       "      <td>-3.821329</td>\n",
       "      <td>Kwa Mahundi</td>\n",
       "      <td>0</td>\n",
       "      <td>Pangani</td>\n",
       "      <td>...</td>\n",
       "      <td>soft</td>\n",
       "      <td>good</td>\n",
       "      <td>enough</td>\n",
       "      <td>enough</td>\n",
       "      <td>dam</td>\n",
       "      <td>dam</td>\n",
       "      <td>surface</td>\n",
       "      <td>communal standpipe multiple</td>\n",
       "      <td>communal standpipe</td>\n",
       "      <td>training</td>\n",
       "    </tr>\n",
       "    <tr>\n",
       "      <th>67743</th>\n",
       "      <td>0.0</td>\n",
       "      <td>2013-01-28</td>\n",
       "      <td>Unicef</td>\n",
       "      <td>263</td>\n",
       "      <td>UNICEF</td>\n",
       "      <td>38.486161</td>\n",
       "      <td>-11.155298</td>\n",
       "      <td>Zahanati Ya Nanyumbu</td>\n",
       "      <td>0</td>\n",
       "      <td>Ruvuma / Southern Coast</td>\n",
       "      <td>...</td>\n",
       "      <td>soft</td>\n",
       "      <td>good</td>\n",
       "      <td>dry</td>\n",
       "      <td>dry</td>\n",
       "      <td>machine dbh</td>\n",
       "      <td>borehole</td>\n",
       "      <td>groundwater</td>\n",
       "      <td>communal standpipe multiple</td>\n",
       "      <td>communal standpipe</td>\n",
       "      <td>training</td>\n",
       "    </tr>\n",
       "    <tr>\n",
       "      <th>19728</th>\n",
       "      <td>0.0</td>\n",
       "      <td>2011-07-13</td>\n",
       "      <td>Action In A</td>\n",
       "      <td>0</td>\n",
       "      <td>Artisan</td>\n",
       "      <td>31.130847</td>\n",
       "      <td>-1.825359</td>\n",
       "      <td>Shuleni</td>\n",
       "      <td>0</td>\n",
       "      <td>Lake Victoria</td>\n",
       "      <td>...</td>\n",
       "      <td>soft</td>\n",
       "      <td>good</td>\n",
       "      <td>seasonal</td>\n",
       "      <td>seasonal</td>\n",
       "      <td>rainwater harvesting</td>\n",
       "      <td>rainwater harvesting</td>\n",
       "      <td>surface</td>\n",
       "      <td>communal standpipe</td>\n",
       "      <td>communal standpipe</td>\n",
       "      <td>training</td>\n",
       "    </tr>\n",
       "  </tbody>\n",
       "</table>\n",
       "<p>5 rows × 40 columns</p>\n",
       "</div>"
      ],
      "text/plain": [
       "       amount_tsh date_recorded        funder  gps_height     installer  \\\n",
       "id                                                                        \n",
       "69572      6000.0    2011-03-14         Roman        1390         Roman   \n",
       "8776          0.0    2013-03-06       Grumeti        1399       GRUMETI   \n",
       "34310        25.0    2013-02-25  Lottery Club         686  World vision   \n",
       "67743         0.0    2013-01-28        Unicef         263        UNICEF   \n",
       "19728         0.0    2011-07-13   Action In A           0       Artisan   \n",
       "\n",
       "       longitude   latitude              wpt_name  num_private  \\\n",
       "id                                                               \n",
       "69572  34.938093  -9.856322                  none            0   \n",
       "8776   34.698766  -2.147466              Zahanati            0   \n",
       "34310  37.460664  -3.821329           Kwa Mahundi            0   \n",
       "67743  38.486161 -11.155298  Zahanati Ya Nanyumbu            0   \n",
       "19728  31.130847  -1.825359               Shuleni            0   \n",
       "\n",
       "                         basin    ...    water_quality quality_group  \\\n",
       "id                                ...                                  \n",
       "69572               Lake Nyasa    ...             soft          good   \n",
       "8776             Lake Victoria    ...             soft          good   \n",
       "34310                  Pangani    ...             soft          good   \n",
       "67743  Ruvuma / Southern Coast    ...             soft          good   \n",
       "19728            Lake Victoria    ...             soft          good   \n",
       "\n",
       "           quantity  quantity_group                source  \\\n",
       "id                                                          \n",
       "69572        enough          enough                spring   \n",
       "8776   insufficient    insufficient  rainwater harvesting   \n",
       "34310        enough          enough                   dam   \n",
       "67743           dry             dry           machine dbh   \n",
       "19728      seasonal        seasonal  rainwater harvesting   \n",
       "\n",
       "                source_type  source_class              waterpoint_type  \\\n",
       "id                                                                       \n",
       "69572                spring   groundwater           communal standpipe   \n",
       "8776   rainwater harvesting       surface           communal standpipe   \n",
       "34310                   dam       surface  communal standpipe multiple   \n",
       "67743              borehole   groundwater  communal standpipe multiple   \n",
       "19728  rainwater harvesting       surface           communal standpipe   \n",
       "\n",
       "      waterpoint_type_group    subset  \n",
       "id                                     \n",
       "69572    communal standpipe  training  \n",
       "8776     communal standpipe  training  \n",
       "34310    communal standpipe  training  \n",
       "67743    communal standpipe  training  \n",
       "19728    communal standpipe  training  \n",
       "\n",
       "[5 rows x 40 columns]"
      ]
     },
     "execution_count": 2,
     "metadata": {},
     "output_type": "execute_result"
    }
   ],
   "source": [
    "print data.shape\n",
    "data.head()"
   ]
  },
  {
   "cell_type": "markdown",
   "metadata": {},
   "source": [
    "# Feature Selection"
   ]
  },
  {
   "cell_type": "markdown",
   "metadata": {},
   "source": [
    "Based on their names, some features may capture similar information, so let's explore the data and elimniate the redundunt columns."
   ]
  },
  {
   "cell_type": "code",
   "execution_count": 3,
   "metadata": {
    "collapsed": false
   },
   "outputs": [
    {
     "name": "stdout",
     "output_type": "stream",
     "text": [
      "['amount_tsh', 'date_recorded', 'funder', 'gps_height', 'installer', 'longitude', 'latitude', 'wpt_name', 'num_private', 'basin', 'subvillage', 'region', 'region_code', 'district_code', 'lga', 'ward', 'population', 'public_meeting', 'recorded_by', 'scheme_management', 'scheme_name', 'permit', 'construction_year', 'extraction_type', 'extraction_type_group', 'extraction_type_class', 'management', 'management_group', 'payment', 'payment_type', 'water_quality', 'quality_group', 'quantity', 'quantity_group', 'source', 'source_type', 'source_class', 'waterpoint_type', 'waterpoint_type_group', 'subset']\n"
     ]
    }
   ],
   "source": [
    "columns_to_keep = list(data.columns)\n",
    "print columns_to_keep"
   ]
  },
  {
   "cell_type": "markdown",
   "metadata": {},
   "source": [
    "## scheme_management , scheme_name"
   ]
  },
  {
   "cell_type": "code",
   "execution_count": 4,
   "metadata": {
    "collapsed": false,
    "scrolled": true
   },
   "outputs": [
    {
     "data": {
      "text/plain": [
       "scheme_management  scheme_name                 \n",
       "Company            BFFS                              1\n",
       "                   BSF water supplying               1\n",
       "                   Bagamoyo Wate                    76\n",
       "                   Bagamoyo wate                   272\n",
       "                   Borehole                          1\n",
       "                   Borehole drilling project         1\n",
       "                   Bulamba piped scheme              3\n",
       "                   Burieni water supply              1\n",
       "                   Doe water supply                  4\n",
       "                   EKTM 2 water  supply              1\n",
       "                   EKTM 2 water suply               28\n",
       "                   EKTM 2 water supply              10\n",
       "                   EKTM 3 water supply              59\n",
       "                   Fufulamsuri water supply          1\n",
       "                   GRUMETI                          10\n",
       "                   HESAWA                            1\n",
       "                   Hakwe water supply               12\n",
       "                   Holili water supply              36\n",
       "                   I                                 1\n",
       "                   IKTM 2                            1\n",
       "                   IKTM 2 water supply               1\n",
       "                   IKTM 3 water supply               1\n",
       "                   Ibukoni kimanga water supply      3\n",
       "                   Iburieni water supply             7\n",
       "                   Ihum                              1\n",
       "                   Ikela Wa                        112\n",
       "                   It                                1\n",
       "                   Itefroni water supply             3\n",
       "                   Kamdawi water supply              9\n",
       "                   Kandika water supply              6\n",
       "                                                  ... \n",
       "Water authority    Shirimatunda water Supply        67\n",
       "                   Shirimatunda water supply         1\n",
       "                   Singino                           1\n",
       "                   Sinyanga water supplied sch       4\n",
       "                   Submersible                       1\n",
       "                   Sui                               1\n",
       "                   Suwasa water supply              10\n",
       "                   TWESA                             1\n",
       "                   Tank fu Mwenge                    1\n",
       "                   Tank fupi Mwenge                  8\n",
       "                   Tank refu Kasokola                7\n",
       "                   Tank refu Mtakuja                 9\n",
       "                   Tank refu Sitalike                9\n",
       "                   Tungu water piped scheme          2\n",
       "                   Tutu                             29\n",
       "                   UWAMAMA                           6\n",
       "                   Urambo water supply              16\n",
       "                   Vumari water supply              12\n",
       "                   Vunta water supply               11\n",
       "                   WD                                1\n",
       "                   Water from DAWASCO               42\n",
       "                   World Bank                       75\n",
       "                   World Vision                      8\n",
       "                   World vision                      1\n",
       "                   Yongoma                          23\n",
       "                   Zepalama                          8\n",
       "                   no scheme                        11\n",
       "                   pump                              2\n",
       "                   water supply at Kalebejo          1\n",
       "                   water supply in Kalebejo          1\n",
       "Name: scheme_name, dtype: int64"
      ]
     },
     "execution_count": 4,
     "metadata": {},
     "output_type": "execute_result"
    }
   ],
   "source": [
    "data.groupby(['scheme_management', 'scheme_name'])['scheme_name'].count()"
   ]
  },
  {
   "cell_type": "markdown",
   "metadata": {},
   "source": [
    "I will remove the 'scheme_name' as it has too many unique values."
   ]
  },
  {
   "cell_type": "code",
   "execution_count": 5,
   "metadata": {
    "collapsed": false
   },
   "outputs": [],
   "source": [
    "columns_to_keep.remove('scheme_name')"
   ]
  },
  {
   "cell_type": "markdown",
   "metadata": {},
   "source": [
    "## extraction_type, extraction_type_group and extraction_type_class"
   ]
  },
  {
   "cell_type": "code",
   "execution_count": 6,
   "metadata": {
    "collapsed": false
   },
   "outputs": [
    {
     "data": {
      "text/plain": [
       "extraction_type_class  extraction_type_group  extraction_type          \n",
       "gravity                gravity                gravity                      33263\n",
       "handpump               afridev                afridev                       2208\n",
       "                       india mark ii          india mark ii                 3029\n",
       "                       india mark iii         india mark iii                 135\n",
       "                       nira/tanira            nira/tanira                  10205\n",
       "                       other handpump         other - mkulima/shinyanga        2\n",
       "                                              other - play pump              101\n",
       "                                              other - swn 81                 284\n",
       "                                              walimi                          60\n",
       "                       swn 80                 swn 80                        4588\n",
       "motorpump              mono                   mono                          3628\n",
       "                       other motorpump        cemo                           108\n",
       "                                              climax                          41\n",
       "other                  other                  other                         8102\n",
       "rope pump              rope pump              other - rope pump              572\n",
       "submersible            submersible            ksb                           1790\n",
       "                                              submersible                   5982\n",
       "wind-powered           wind-powered           windmill                       152\n",
       "Name: extraction_type, dtype: int64"
      ]
     },
     "execution_count": 6,
     "metadata": {},
     "output_type": "execute_result"
    }
   ],
   "source": [
    "data.groupby([ 'extraction_type_class', 'extraction_type_group','extraction_type'])['extraction_type'].count()"
   ]
  },
  {
   "cell_type": "markdown",
   "metadata": {},
   "source": [
    "** I will only keep the extraction_type column and remove the two others. I will also combine some levels together based on brand :**\n",
    "+ india mark ii and india mark iii ==> india mark\n",
    "+ other - swn 81 and swn 80 ==> swn\n",
    "+ other - mkulima/shinyanga , other - play pump and walimi ==> other handpump\n",
    "+ climax and cemo ==> other motorpump"
   ]
  },
  {
   "cell_type": "code",
   "execution_count": 7,
   "metadata": {
    "collapsed": false
   },
   "outputs": [
    {
     "name": "stderr",
     "output_type": "stream",
     "text": [
      "C:\\Users\\ra18m\\Anaconda\\lib\\site-packages\\pandas\\core\\indexing.py:132: SettingWithCopyWarning: \n",
      "A value is trying to be set on a copy of a slice from a DataFrame\n",
      "\n",
      "See the caveats in the documentation: http://pandas.pydata.org/pandas-docs/stable/indexing.html#indexing-view-versus-copy\n",
      "  self._setitem_with_indexer(indexer, value)\n"
     ]
    }
   ],
   "source": [
    "data['extraction_type'].loc[data['extraction_type'] == 'india mark ii'] = 'india mark'\n",
    "data['extraction_type'].loc[data['extraction_type'] == 'india mark iii'] = 'india mark'\n",
    "data['extraction_type'].loc[data['extraction_type'] == 'other - swn 81'] = 'swn'\n",
    "data['extraction_type'].loc[data['extraction_type'] == 'swn 80'] = 'swn'\n",
    "data['extraction_type'].loc[data['extraction_type'] == 'other - mkulima/shinyanga'] = 'other handpump'\n",
    "data['extraction_type'].loc[data['extraction_type'] == 'other - play pump'] = 'other handpump'\n",
    "data['extraction_type'].loc[data['extraction_type'] == 'walimi'] = 'other handpump'\n",
    "data['extraction_type'].loc[data['extraction_type'] == 'climax'] = 'other motorpump'\n",
    "data['extraction_type'].loc[data['extraction_type'] == 'cemo'] = 'other motorpump'\n",
    "\n",
    "columns_to_keep.remove('extraction_type_class')\n",
    "columns_to_keep.remove('extraction_type_group')"
   ]
  },
  {
   "cell_type": "code",
   "execution_count": 8,
   "metadata": {
    "collapsed": false
   },
   "outputs": [
    {
     "data": {
      "text/plain": [
       "extraction_type_class  extraction_type_group  extraction_type  \n",
       "gravity                gravity                gravity              33263\n",
       "handpump               afridev                afridev               2208\n",
       "                       india mark ii          india mark            3029\n",
       "                       india mark iii         india mark             135\n",
       "                       nira/tanira            nira/tanira          10205\n",
       "                       other handpump         other handpump         163\n",
       "                                              swn                    284\n",
       "                       swn 80                 swn                   4588\n",
       "motorpump              mono                   mono                  3628\n",
       "                       other motorpump        other motorpump        149\n",
       "other                  other                  other                 8102\n",
       "rope pump              rope pump              other - rope pump      572\n",
       "submersible            submersible            ksb                   1790\n",
       "                                              submersible           5982\n",
       "wind-powered           wind-powered           windmill               152\n",
       "Name: extraction_type, dtype: int64"
      ]
     },
     "execution_count": 8,
     "metadata": {},
     "output_type": "execute_result"
    }
   ],
   "source": [
    "data.groupby([ 'extraction_type_class', 'extraction_type_group','extraction_type'])['extraction_type'].count()"
   ]
  },
  {
   "cell_type": "markdown",
   "metadata": {},
   "source": [
    "## management_group and management"
   ]
  },
  {
   "cell_type": "code",
   "execution_count": 9,
   "metadata": {
    "collapsed": false
   },
   "outputs": [
    {
     "data": {
      "text/plain": [
       "management_group  management      \n",
       "commercial        company               859\n",
       "                  private operator     2504\n",
       "                  trust                 105\n",
       "                  water authority      1123\n",
       "other             other                1083\n",
       "                  other - school        126\n",
       "parastatal        parastatal           2229\n",
       "unknown           unknown               683\n",
       "user-group        vwc                 50624\n",
       "                  water board          3688\n",
       "                  wua                  3118\n",
       "                  wug                  8108\n",
       "Name: management, dtype: int64"
      ]
     },
     "execution_count": 9,
     "metadata": {},
     "output_type": "execute_result"
    }
   ],
   "source": [
    "data.groupby(['management_group','management'])['management'].count()"
   ]
  },
  {
   "cell_type": "markdown",
   "metadata": {},
   "source": [
    "** I will only keep the \"management\" column. **"
   ]
  },
  {
   "cell_type": "code",
   "execution_count": 10,
   "metadata": {
    "collapsed": true
   },
   "outputs": [],
   "source": [
    "columns_to_keep.remove('management_group')"
   ]
  },
  {
   "cell_type": "markdown",
   "metadata": {},
   "source": [
    "## payment and payment_type"
   ]
  },
  {
   "cell_type": "code",
   "execution_count": 11,
   "metadata": {
    "collapsed": false
   },
   "outputs": [
    {
     "data": {
      "text/plain": [
       "payment_type  payment              \n",
       "annually      pay annually              4570\n",
       "monthly       pay monthly              10397\n",
       "never pay     never pay                31712\n",
       "on failure    pay when scheme fails     4842\n",
       "other         other                     1314\n",
       "per bucket    pay per bucket           11266\n",
       "unknown       unknown                  10149\n",
       "Name: payment, dtype: int64"
      ]
     },
     "execution_count": 11,
     "metadata": {},
     "output_type": "execute_result"
    }
   ],
   "source": [
    "data.groupby(['payment_type','payment'])['payment'].count()"
   ]
  },
  {
   "cell_type": "markdown",
   "metadata": {},
   "source": [
    "** The two column \"payment\" and \"payment_type\" are similar, i choose to keep the \"payment_type\" column. **"
   ]
  },
  {
   "cell_type": "code",
   "execution_count": 12,
   "metadata": {
    "collapsed": true
   },
   "outputs": [],
   "source": [
    "columns_to_keep.remove('payment')"
   ]
  },
  {
   "cell_type": "markdown",
   "metadata": {},
   "source": [
    "## water_quality and quality_group"
   ]
  },
  {
   "cell_type": "code",
   "execution_count": 13,
   "metadata": {
    "collapsed": false
   },
   "outputs": [
    {
     "data": {
      "text/plain": [
       "quality_group  water_quality     \n",
       "colored        coloured                623\n",
       "fluoride       fluoride                244\n",
       "               fluoride abandoned       23\n",
       "good           soft                  63505\n",
       "milky          milky                  1005\n",
       "salty          salty                  6082\n",
       "               salty abandoned         423\n",
       "unknown        unknown                2345\n",
       "Name: water_quality, dtype: int64"
      ]
     },
     "execution_count": 13,
     "metadata": {},
     "output_type": "execute_result"
    }
   ],
   "source": [
    "data.groupby(['quality_group','water_quality'])['water_quality'].count()"
   ]
  },
  {
   "cell_type": "markdown",
   "metadata": {},
   "source": [
    "** I will keep the \"water_quality\" column as it is more precise. **"
   ]
  },
  {
   "cell_type": "code",
   "execution_count": 14,
   "metadata": {
    "collapsed": true
   },
   "outputs": [],
   "source": [
    "columns_to_keep.remove('quality_group')"
   ]
  },
  {
   "cell_type": "markdown",
   "metadata": {},
   "source": [
    "## quantity and quantity_group"
   ]
  },
  {
   "cell_type": "code",
   "execution_count": 15,
   "metadata": {
    "collapsed": false
   },
   "outputs": [
    {
     "data": {
      "text/plain": [
       "quantity      quantity_group\n",
       "dry           dry                7782\n",
       "enough        enough            41522\n",
       "insufficient  insufficient      18896\n",
       "seasonal      seasonal           5075\n",
       "unknown       unknown             975\n",
       "Name: quantity, dtype: int64"
      ]
     },
     "execution_count": 15,
     "metadata": {},
     "output_type": "execute_result"
    }
   ],
   "source": [
    "data.groupby(['quantity', 'quantity_group'])['quantity'].count()"
   ]
  },
  {
   "cell_type": "markdown",
   "metadata": {},
   "source": [
    "** This two columns are similar, i choose to keep the \"quantity\" column. **"
   ]
  },
  {
   "cell_type": "code",
   "execution_count": 16,
   "metadata": {
    "collapsed": true
   },
   "outputs": [],
   "source": [
    "columns_to_keep.remove('quantity_group')"
   ]
  },
  {
   "cell_type": "markdown",
   "metadata": {},
   "source": [
    "## source, source_type and source_class"
   ]
  },
  {
   "cell_type": "code",
   "execution_count": 17,
   "metadata": {
    "collapsed": false
   },
   "outputs": [
    {
     "data": {
      "text/plain": [
       "source_class  source_type           source              \n",
       "groundwater   borehole              hand dtw                 1108\n",
       "                                    machine dbh             13822\n",
       "              shallow well          shallow well            21140\n",
       "              spring                spring                  21216\n",
       "surface       dam                   dam                       840\n",
       "              rainwater harvesting  rainwater harvesting     2863\n",
       "              river/lake            lake                      950\n",
       "                                    river                   11964\n",
       "unknown       other                 other                     261\n",
       "                                    unknown                    86\n",
       "Name: source, dtype: int64"
      ]
     },
     "execution_count": 17,
     "metadata": {},
     "output_type": "execute_result"
    }
   ],
   "source": [
    "data.groupby(['source_class', 'source_type', 'source'])['source'].count()"
   ]
  },
  {
   "cell_type": "markdown",
   "metadata": {},
   "source": [
    "** I will only keep the \"source\" column as it carries more specific information.I will also set the unknown values to other. **"
   ]
  },
  {
   "cell_type": "code",
   "execution_count": 18,
   "metadata": {
    "collapsed": false
   },
   "outputs": [],
   "source": [
    "columns_to_keep.remove('source_class')\n",
    "columns_to_keep.remove('source_type')\n",
    "data['source'].loc[data['source'] == 'unknown'] = 'other'"
   ]
  },
  {
   "cell_type": "code",
   "execution_count": 19,
   "metadata": {
    "collapsed": false
   },
   "outputs": [
    {
     "name": "stdout",
     "output_type": "stream",
     "text": [
      "['amount_tsh', 'date_recorded', 'funder', 'gps_height', 'installer', 'longitude', 'latitude', 'wpt_name', 'num_private', 'basin', 'subvillage', 'region', 'region_code', 'district_code', 'lga', 'ward', 'population', 'public_meeting', 'recorded_by', 'scheme_management', 'permit', 'construction_year', 'extraction_type', 'management', 'payment_type', 'water_quality', 'quantity', 'source', 'waterpoint_type', 'waterpoint_type_group', 'subset']\n"
     ]
    }
   ],
   "source": [
    "print columns_to_keep"
   ]
  },
  {
   "cell_type": "markdown",
   "metadata": {},
   "source": [
    "## waterpoint_type and waterpoint_type_group"
   ]
  },
  {
   "cell_type": "code",
   "execution_count": 20,
   "metadata": {
    "collapsed": false
   },
   "outputs": [
    {
     "data": {
      "text/plain": [
       "waterpoint_type_group  waterpoint_type            \n",
       "cattle trough          cattle trough                    150\n",
       "communal standpipe     communal standpipe             35628\n",
       "                       communal standpipe multiple     7611\n",
       "dam                    dam                                8\n",
       "hand pump              hand pump                      21884\n",
       "improved spring        improved spring                  959\n",
       "other                  other                           8010\n",
       "Name: waterpoint_type, dtype: int64"
      ]
     },
     "execution_count": 20,
     "metadata": {},
     "output_type": "execute_result"
    }
   ],
   "source": [
    "data.groupby(['waterpoint_type_group', 'waterpoint_type'])['waterpoint_type'].count()"
   ]
  },
  {
   "cell_type": "markdown",
   "metadata": {},
   "source": [
    "** I will remove the \"waterpoint_type_group\" column. ** "
   ]
  },
  {
   "cell_type": "code",
   "execution_count": 21,
   "metadata": {
    "collapsed": true
   },
   "outputs": [],
   "source": [
    "columns_to_keep.remove('waterpoint_type_group')"
   ]
  },
  {
   "cell_type": "markdown",
   "metadata": {},
   "source": [
    "## Geographic information"
   ]
  },
  {
   "cell_type": "markdown",
   "metadata": {},
   "source": [
    "We have many features that describe the location :\n",
    "+ region, (region_code)\n",
    "+ district_code\n",
    "+ subvillage\n",
    "+ lga\n",
    "+ ward\n",
    "+ longitude, latitude"
   ]
  },
  {
   "cell_type": "markdown",
   "metadata": {},
   "source": [
    "I will keep the region_code and the ward as categorical feature and longitude x latitude as numerical feature"
   ]
  },
  {
   "cell_type": "code",
   "execution_count": 22,
   "metadata": {
    "collapsed": false
   },
   "outputs": [],
   "source": [
    "columns_to_keep.remove('region')\n",
    "columns_to_keep.remove('district_code')\n",
    "columns_to_keep.remove('subvillage')\n",
    "#columns_to_keep.remove('ward')"
   ]
  },
  {
   "cell_type": "markdown",
   "metadata": {},
   "source": [
    "** It seems that the 'lga' column captures some interesting information. For some waterpoints, It specifies the nature of the area (rural or urban). So based on the lga column, I will add a new feature called \"area\" that can be either rural, urban or other. **"
   ]
  },
  {
   "cell_type": "code",
   "execution_count": 23,
   "metadata": {
    "collapsed": true
   },
   "outputs": [],
   "source": [
    "def build_area_column(lga):\n",
    "    if \"rural\" in lga.lower():\n",
    "        return \"rural\"\n",
    "    elif \"urban\" in lga.lower():\n",
    "        return \"urban\"\n",
    "    else :\n",
    "        return \"other\"\n",
    "\n",
    "data[\"area\"] = data['lga'].map(build_area_column)\n",
    "columns_to_keep.append(\"area\")"
   ]
  },
  {
   "cell_type": "code",
   "execution_count": 24,
   "metadata": {
    "collapsed": false
   },
   "outputs": [
    {
     "data": {
      "text/plain": [
       "other    60318\n",
       "rural    11814\n",
       "urban     2118\n",
       "Name: area, dtype: int64"
      ]
     },
     "execution_count": 24,
     "metadata": {},
     "output_type": "execute_result"
    }
   ],
   "source": [
    "data['area'].value_counts()"
   ]
  },
  {
   "cell_type": "markdown",
   "metadata": {},
   "source": [
    "Finally I remove the lga column."
   ]
  },
  {
   "cell_type": "code",
   "execution_count": 25,
   "metadata": {
    "collapsed": true
   },
   "outputs": [],
   "source": [
    "columns_to_keep.remove(\"lga\")"
   ]
  },
  {
   "cell_type": "code",
   "execution_count": 26,
   "metadata": {
    "collapsed": false
   },
   "outputs": [
    {
     "data": {
      "text/plain": [
       "['amount_tsh',\n",
       " 'date_recorded',\n",
       " 'funder',\n",
       " 'gps_height',\n",
       " 'installer',\n",
       " 'longitude',\n",
       " 'latitude',\n",
       " 'wpt_name',\n",
       " 'num_private',\n",
       " 'basin',\n",
       " 'region_code',\n",
       " 'ward',\n",
       " 'population',\n",
       " 'public_meeting',\n",
       " 'recorded_by',\n",
       " 'scheme_management',\n",
       " 'permit',\n",
       " 'construction_year',\n",
       " 'extraction_type',\n",
       " 'management',\n",
       " 'payment_type',\n",
       " 'water_quality',\n",
       " 'quantity',\n",
       " 'source',\n",
       " 'waterpoint_type',\n",
       " 'subset',\n",
       " 'area']"
      ]
     },
     "execution_count": 26,
     "metadata": {},
     "output_type": "execute_result"
    }
   ],
   "source": [
    "columns_to_keep"
   ]
  },
  {
   "cell_type": "markdown",
   "metadata": {},
   "source": [
    "## Date_recorded"
   ]
  },
  {
   "cell_type": "markdown",
   "metadata": {},
   "source": [
    "Whether a pump do function or do not may also depend on seasons. According to [safaribookings](https://www.safaribookings.com/tanzania/climate) *Tanzania has two seasons : A Dry season from June to October and a Wet season from November to May.*\n",
    "So in order to capture the seasonal effect, i will convert the \"date_recorded\" feature into two columns :\n",
    "+ \"year_recorded\" : indicates the year in which the waterpump was recorded.\n",
    "+ \"month_recorded\" : indicates the month in which the waterpump was recorded (from 1 to 12)."
   ]
  },
  {
   "cell_type": "code",
   "execution_count": 27,
   "metadata": {
    "collapsed": false
   },
   "outputs": [],
   "source": [
    "data['year_recorded'] = data['date_recorded'].map(lambda x: pd.to_datetime(x).year)\n",
    "data['day_recorded'] = data['date_recorded'].map(lambda x: pd.to_datetime(x).dayofyear)"
   ]
  },
  {
   "cell_type": "code",
   "execution_count": 28,
   "metadata": {
    "collapsed": false
   },
   "outputs": [],
   "source": [
    "columns_to_keep.append('year_recorded')\n",
    "columns_to_keep.append('day_recorded')\n",
    "# I will remove the 'date_recorded' column\n",
    "columns_to_keep.remove('date_recorded')"
   ]
  },
  {
   "cell_type": "markdown",
   "metadata": {},
   "source": [
    "I will also remove the 'num_private' and 'wpt_name' variables as they do not have any effect on whether a waterpump operate or not. "
   ]
  },
  {
   "cell_type": "code",
   "execution_count": 29,
   "metadata": {
    "collapsed": true
   },
   "outputs": [],
   "source": [
    "columns_to_keep.remove('wpt_name')\n",
    "columns_to_keep.remove('num_private')"
   ]
  },
  {
   "cell_type": "markdown",
   "metadata": {},
   "source": [
    "Handling missing values\n",
    "====\n"
   ]
  },
  {
   "cell_type": "markdown",
   "metadata": {},
   "source": [
    "Let's see which column have missing values."
   ]
  },
  {
   "cell_type": "code",
   "execution_count": 30,
   "metadata": {
    "collapsed": false
   },
   "outputs": [
    {
     "data": {
      "text/plain": [
       "amount_tsh              0\n",
       "funder               4504\n",
       "gps_height              0\n",
       "installer            4532\n",
       "longitude               0\n",
       "latitude                0\n",
       "basin                   0\n",
       "region_code             0\n",
       "ward                    0\n",
       "population              0\n",
       "public_meeting       4155\n",
       "recorded_by             0\n",
       "scheme_management    4846\n",
       "permit               3793\n",
       "construction_year       0\n",
       "extraction_type         0\n",
       "management              0\n",
       "payment_type            0\n",
       "water_quality           0\n",
       "quantity                0\n",
       "source                  0\n",
       "waterpoint_type         0\n",
       "subset                  0\n",
       "area                    0\n",
       "year_recorded           0\n",
       "day_recorded            0\n",
       "dtype: int64"
      ]
     },
     "execution_count": 30,
     "metadata": {},
     "output_type": "execute_result"
    }
   ],
   "source": [
    "data[columns_to_keep].isnull().sum()"
   ]
  },
  {
   "cell_type": "markdown",
   "metadata": {},
   "source": [
    "** I will set the missing values in the \"funder\", \"installer\", \"scheme_management\" columns to 'Others'. **"
   ]
  },
  {
   "cell_type": "code",
   "execution_count": 31,
   "metadata": {
    "collapsed": false
   },
   "outputs": [],
   "source": [
    "data['funder'] = data['funder'].fillna('Others')\n",
    "data['installer'] = data['installer'].fillna('Others')"
   ]
  },
  {
   "cell_type": "code",
   "execution_count": 32,
   "metadata": {
    "collapsed": false
   },
   "outputs": [
    {
     "data": {
      "text/plain": [
       "VWC                 45917\n",
       "WUG                  6496\n",
       "Water authority      3975\n",
       "WUA                  3551\n",
       "Water Board          3462\n",
       "Parastatal           2124\n",
       "Company              1341\n",
       "Private operator     1326\n",
       "Other                 996\n",
       "SWC                   123\n",
       "Trust                  92\n",
       "None                    1\n",
       "Name: scheme_management, dtype: int64"
      ]
     },
     "execution_count": 32,
     "metadata": {},
     "output_type": "execute_result"
    }
   ],
   "source": [
    "data['scheme_management'].value_counts()"
   ]
  },
  {
   "cell_type": "code",
   "execution_count": 33,
   "metadata": {
    "collapsed": true
   },
   "outputs": [],
   "source": [
    "data['scheme_management'] = data['scheme_management'].fillna('Other')\n",
    "data[data['scheme_management'] == 'None' ] = 'Other'"
   ]
  },
  {
   "cell_type": "markdown",
   "metadata": {},
   "source": [
    "Let's now explore the \"public_meeting\" and \"permit\" columns"
   ]
  },
  {
   "cell_type": "code",
   "execution_count": 34,
   "metadata": {
    "collapsed": false
   },
   "outputs": [
    {
     "name": "stdout",
     "output_type": "stream",
     "text": [
      "True     63748\n",
      "False     6346\n",
      "Other        1\n",
      "Name: public_meeting, dtype: int64\n",
      "True     48606\n",
      "False    21850\n",
      "Other        1\n",
      "Name: permit, dtype: int64\n"
     ]
    }
   ],
   "source": [
    "print data['public_meeting'].value_counts()\n",
    "print data['permit'].value_counts()"
   ]
  },
  {
   "cell_type": "markdown",
   "metadata": {},
   "source": [
    "I will set the missing values to the most frequent value in both columns, which is \"True\"."
   ]
  },
  {
   "cell_type": "code",
   "execution_count": 35,
   "metadata": {
    "collapsed": true
   },
   "outputs": [],
   "source": [
    "data['public_meeting'] = data['public_meeting'].fillna(True)\n",
    "data['permit'] = data['permit'].fillna(True)"
   ]
  },
  {
   "cell_type": "markdown",
   "metadata": {},
   "source": [
    "### Longitude and Latitude"
   ]
  },
  {
   "cell_type": "markdown",
   "metadata": {},
   "source": [
    "It looks like many rows have abnormal values in their longitude and latitude attributes which can be considered as missing values."
   ]
  },
  {
   "cell_type": "code",
   "execution_count": 36,
   "metadata": {
    "collapsed": false,
    "scrolled": true
   },
   "outputs": [
    {
     "data": {
      "text/html": [
       "<div>\n",
       "<table border=\"1\" class=\"dataframe\">\n",
       "  <thead>\n",
       "    <tr style=\"text-align: right;\">\n",
       "      <th></th>\n",
       "      <th>longitude</th>\n",
       "      <th>latitude</th>\n",
       "    </tr>\n",
       "    <tr>\n",
       "      <th>id</th>\n",
       "      <th></th>\n",
       "      <th></th>\n",
       "    </tr>\n",
       "  </thead>\n",
       "  <tbody>\n",
       "    <tr>\n",
       "      <th>6091</th>\n",
       "      <td>0</td>\n",
       "      <td>-2e-08</td>\n",
       "    </tr>\n",
       "    <tr>\n",
       "      <th>32376</th>\n",
       "      <td>0</td>\n",
       "      <td>-2e-08</td>\n",
       "    </tr>\n",
       "    <tr>\n",
       "      <th>72678</th>\n",
       "      <td>0</td>\n",
       "      <td>-2e-08</td>\n",
       "    </tr>\n",
       "    <tr>\n",
       "      <th>56725</th>\n",
       "      <td>0</td>\n",
       "      <td>-2e-08</td>\n",
       "    </tr>\n",
       "    <tr>\n",
       "      <th>13042</th>\n",
       "      <td>0</td>\n",
       "      <td>-2e-08</td>\n",
       "    </tr>\n",
       "    <tr>\n",
       "      <th>33500</th>\n",
       "      <td>0</td>\n",
       "      <td>-2e-08</td>\n",
       "    </tr>\n",
       "    <tr>\n",
       "      <th>71487</th>\n",
       "      <td>0</td>\n",
       "      <td>-2e-08</td>\n",
       "    </tr>\n",
       "    <tr>\n",
       "      <th>70379</th>\n",
       "      <td>0</td>\n",
       "      <td>-2e-08</td>\n",
       "    </tr>\n",
       "    <tr>\n",
       "      <th>59713</th>\n",
       "      <td>0</td>\n",
       "      <td>-2e-08</td>\n",
       "    </tr>\n",
       "    <tr>\n",
       "      <th>45415</th>\n",
       "      <td>0</td>\n",
       "      <td>-2e-08</td>\n",
       "    </tr>\n",
       "    <tr>\n",
       "      <th>51403</th>\n",
       "      <td>0</td>\n",
       "      <td>-2e-08</td>\n",
       "    </tr>\n",
       "    <tr>\n",
       "      <th>7900</th>\n",
       "      <td>0</td>\n",
       "      <td>-2e-08</td>\n",
       "    </tr>\n",
       "    <tr>\n",
       "      <th>32089</th>\n",
       "      <td>0</td>\n",
       "      <td>-2e-08</td>\n",
       "    </tr>\n",
       "    <tr>\n",
       "      <th>59310</th>\n",
       "      <td>0</td>\n",
       "      <td>-2e-08</td>\n",
       "    </tr>\n",
       "    <tr>\n",
       "      <th>51220</th>\n",
       "      <td>0</td>\n",
       "      <td>-2e-08</td>\n",
       "    </tr>\n",
       "    <tr>\n",
       "      <th>20625</th>\n",
       "      <td>0</td>\n",
       "      <td>-2e-08</td>\n",
       "    </tr>\n",
       "    <tr>\n",
       "      <th>27128</th>\n",
       "      <td>0</td>\n",
       "      <td>-2e-08</td>\n",
       "    </tr>\n",
       "    <tr>\n",
       "      <th>19409</th>\n",
       "      <td>0</td>\n",
       "      <td>-2e-08</td>\n",
       "    </tr>\n",
       "    <tr>\n",
       "      <th>38537</th>\n",
       "      <td>0</td>\n",
       "      <td>-2e-08</td>\n",
       "    </tr>\n",
       "    <tr>\n",
       "      <th>36267</th>\n",
       "      <td>0</td>\n",
       "      <td>-2e-08</td>\n",
       "    </tr>\n",
       "    <tr>\n",
       "      <th>17287</th>\n",
       "      <td>0</td>\n",
       "      <td>-2e-08</td>\n",
       "    </tr>\n",
       "    <tr>\n",
       "      <th>27799</th>\n",
       "      <td>0</td>\n",
       "      <td>-2e-08</td>\n",
       "    </tr>\n",
       "    <tr>\n",
       "      <th>51820</th>\n",
       "      <td>0</td>\n",
       "      <td>-2e-08</td>\n",
       "    </tr>\n",
       "    <tr>\n",
       "      <th>41985</th>\n",
       "      <td>0</td>\n",
       "      <td>-2e-08</td>\n",
       "    </tr>\n",
       "    <tr>\n",
       "      <th>10085</th>\n",
       "      <td>0</td>\n",
       "      <td>-2e-08</td>\n",
       "    </tr>\n",
       "    <tr>\n",
       "      <th>32543</th>\n",
       "      <td>0</td>\n",
       "      <td>-2e-08</td>\n",
       "    </tr>\n",
       "    <tr>\n",
       "      <th>32952</th>\n",
       "      <td>0</td>\n",
       "      <td>-2e-08</td>\n",
       "    </tr>\n",
       "    <tr>\n",
       "      <th>46510</th>\n",
       "      <td>0</td>\n",
       "      <td>-2e-08</td>\n",
       "    </tr>\n",
       "    <tr>\n",
       "      <th>15306</th>\n",
       "      <td>0</td>\n",
       "      <td>-2e-08</td>\n",
       "    </tr>\n",
       "    <tr>\n",
       "      <th>1678</th>\n",
       "      <td>0</td>\n",
       "      <td>-2e-08</td>\n",
       "    </tr>\n",
       "    <tr>\n",
       "      <th>...</th>\n",
       "      <td>...</td>\n",
       "      <td>...</td>\n",
       "    </tr>\n",
       "    <tr>\n",
       "      <th>49822</th>\n",
       "      <td>0</td>\n",
       "      <td>-2e-08</td>\n",
       "    </tr>\n",
       "    <tr>\n",
       "      <th>60172</th>\n",
       "      <td>0</td>\n",
       "      <td>-2e-08</td>\n",
       "    </tr>\n",
       "    <tr>\n",
       "      <th>70886</th>\n",
       "      <td>0</td>\n",
       "      <td>-2e-08</td>\n",
       "    </tr>\n",
       "    <tr>\n",
       "      <th>63075</th>\n",
       "      <td>0</td>\n",
       "      <td>-2e-08</td>\n",
       "    </tr>\n",
       "    <tr>\n",
       "      <th>67883</th>\n",
       "      <td>0</td>\n",
       "      <td>-2e-08</td>\n",
       "    </tr>\n",
       "    <tr>\n",
       "      <th>42930</th>\n",
       "      <td>0</td>\n",
       "      <td>-2e-08</td>\n",
       "    </tr>\n",
       "    <tr>\n",
       "      <th>40949</th>\n",
       "      <td>0</td>\n",
       "      <td>-2e-08</td>\n",
       "    </tr>\n",
       "    <tr>\n",
       "      <th>5470</th>\n",
       "      <td>0</td>\n",
       "      <td>-2e-08</td>\n",
       "    </tr>\n",
       "    <tr>\n",
       "      <th>13907</th>\n",
       "      <td>0</td>\n",
       "      <td>-2e-08</td>\n",
       "    </tr>\n",
       "    <tr>\n",
       "      <th>67696</th>\n",
       "      <td>0</td>\n",
       "      <td>-2e-08</td>\n",
       "    </tr>\n",
       "    <tr>\n",
       "      <th>25002</th>\n",
       "      <td>0</td>\n",
       "      <td>-2e-08</td>\n",
       "    </tr>\n",
       "    <tr>\n",
       "      <th>42897</th>\n",
       "      <td>0</td>\n",
       "      <td>-2e-08</td>\n",
       "    </tr>\n",
       "    <tr>\n",
       "      <th>6669</th>\n",
       "      <td>0</td>\n",
       "      <td>-2e-08</td>\n",
       "    </tr>\n",
       "    <tr>\n",
       "      <th>4366</th>\n",
       "      <td>0</td>\n",
       "      <td>-2e-08</td>\n",
       "    </tr>\n",
       "    <tr>\n",
       "      <th>17006</th>\n",
       "      <td>0</td>\n",
       "      <td>-2e-08</td>\n",
       "    </tr>\n",
       "    <tr>\n",
       "      <th>59706</th>\n",
       "      <td>0</td>\n",
       "      <td>-2e-08</td>\n",
       "    </tr>\n",
       "    <tr>\n",
       "      <th>65912</th>\n",
       "      <td>0</td>\n",
       "      <td>-2e-08</td>\n",
       "    </tr>\n",
       "    <tr>\n",
       "      <th>22537</th>\n",
       "      <td>0</td>\n",
       "      <td>-2e-08</td>\n",
       "    </tr>\n",
       "    <tr>\n",
       "      <th>39196</th>\n",
       "      <td>0</td>\n",
       "      <td>-2e-08</td>\n",
       "    </tr>\n",
       "    <tr>\n",
       "      <th>31880</th>\n",
       "      <td>0</td>\n",
       "      <td>-2e-08</td>\n",
       "    </tr>\n",
       "    <tr>\n",
       "      <th>27394</th>\n",
       "      <td>0</td>\n",
       "      <td>-2e-08</td>\n",
       "    </tr>\n",
       "    <tr>\n",
       "      <th>31381</th>\n",
       "      <td>0</td>\n",
       "      <td>-2e-08</td>\n",
       "    </tr>\n",
       "    <tr>\n",
       "      <th>762</th>\n",
       "      <td>0</td>\n",
       "      <td>-2e-08</td>\n",
       "    </tr>\n",
       "    <tr>\n",
       "      <th>28800</th>\n",
       "      <td>0</td>\n",
       "      <td>-2e-08</td>\n",
       "    </tr>\n",
       "    <tr>\n",
       "      <th>49730</th>\n",
       "      <td>0</td>\n",
       "      <td>-2e-08</td>\n",
       "    </tr>\n",
       "    <tr>\n",
       "      <th>30454</th>\n",
       "      <td>0</td>\n",
       "      <td>-2e-08</td>\n",
       "    </tr>\n",
       "    <tr>\n",
       "      <th>44766</th>\n",
       "      <td>0</td>\n",
       "      <td>-2e-08</td>\n",
       "    </tr>\n",
       "    <tr>\n",
       "      <th>56279</th>\n",
       "      <td>0</td>\n",
       "      <td>-2e-08</td>\n",
       "    </tr>\n",
       "    <tr>\n",
       "      <th>37994</th>\n",
       "      <td>0</td>\n",
       "      <td>-2e-08</td>\n",
       "    </tr>\n",
       "    <tr>\n",
       "      <th>64579</th>\n",
       "      <td>0</td>\n",
       "      <td>-2e-08</td>\n",
       "    </tr>\n",
       "  </tbody>\n",
       "</table>\n",
       "<p>2269 rows × 2 columns</p>\n",
       "</div>"
      ],
      "text/plain": [
       "      longitude latitude\n",
       "id                      \n",
       "6091          0   -2e-08\n",
       "32376         0   -2e-08\n",
       "72678         0   -2e-08\n",
       "56725         0   -2e-08\n",
       "13042         0   -2e-08\n",
       "33500         0   -2e-08\n",
       "71487         0   -2e-08\n",
       "70379         0   -2e-08\n",
       "59713         0   -2e-08\n",
       "45415         0   -2e-08\n",
       "51403         0   -2e-08\n",
       "7900          0   -2e-08\n",
       "32089         0   -2e-08\n",
       "59310         0   -2e-08\n",
       "51220         0   -2e-08\n",
       "20625         0   -2e-08\n",
       "27128         0   -2e-08\n",
       "19409         0   -2e-08\n",
       "38537         0   -2e-08\n",
       "36267         0   -2e-08\n",
       "17287         0   -2e-08\n",
       "27799         0   -2e-08\n",
       "51820         0   -2e-08\n",
       "41985         0   -2e-08\n",
       "10085         0   -2e-08\n",
       "32543         0   -2e-08\n",
       "32952         0   -2e-08\n",
       "46510         0   -2e-08\n",
       "15306         0   -2e-08\n",
       "1678          0   -2e-08\n",
       "...         ...      ...\n",
       "49822         0   -2e-08\n",
       "60172         0   -2e-08\n",
       "70886         0   -2e-08\n",
       "63075         0   -2e-08\n",
       "67883         0   -2e-08\n",
       "42930         0   -2e-08\n",
       "40949         0   -2e-08\n",
       "5470          0   -2e-08\n",
       "13907         0   -2e-08\n",
       "67696         0   -2e-08\n",
       "25002         0   -2e-08\n",
       "42897         0   -2e-08\n",
       "6669          0   -2e-08\n",
       "4366          0   -2e-08\n",
       "17006         0   -2e-08\n",
       "59706         0   -2e-08\n",
       "65912         0   -2e-08\n",
       "22537         0   -2e-08\n",
       "39196         0   -2e-08\n",
       "31880         0   -2e-08\n",
       "27394         0   -2e-08\n",
       "31381         0   -2e-08\n",
       "762           0   -2e-08\n",
       "28800         0   -2e-08\n",
       "49730         0   -2e-08\n",
       "30454         0   -2e-08\n",
       "44766         0   -2e-08\n",
       "56279         0   -2e-08\n",
       "37994         0   -2e-08\n",
       "64579         0   -2e-08\n",
       "\n",
       "[2269 rows x 2 columns]"
      ]
     },
     "execution_count": 36,
     "metadata": {},
     "output_type": "execute_result"
    }
   ],
   "source": [
    "data[['longitude','latitude']].loc[(data[\"longitude\"]==0) | (data[\"latitude\"]==0)]"
   ]
  },
  {
   "cell_type": "markdown",
   "metadata": {},
   "source": [
    "Since the district_code column has no missing values, we can use it to approximate the lat/long missing values."
   ]
  },
  {
   "cell_type": "markdown",
   "metadata": {},
   "source": [
    "First let's create a new column which contains the region_code and district_code joined together"
   ]
  },
  {
   "cell_type": "code",
   "execution_count": 37,
   "metadata": {
    "collapsed": true
   },
   "outputs": [],
   "source": [
    "data['region_and_district'] = data['region_code'].map(str) + \",\" + data['district_code'].map(str)"
   ]
  },
  {
   "cell_type": "markdown",
   "metadata": {},
   "source": [
    "Then I define a function that takes the region_code and the district_code as input and return the latitude mean of the district:"
   ]
  },
  {
   "cell_type": "code",
   "execution_count": 38,
   "metadata": {
    "collapsed": false
   },
   "outputs": [],
   "source": [
    "def lat_approx(region):\n",
    "    return data['latitude'].loc[(data[\"longitude\"]!=0) & (data[\"latitude\"]!=0) & (data['region_code'] == region)].mean()"
   ]
  },
  {
   "cell_type": "markdown",
   "metadata": {},
   "source": [
    "Same for the longitude:"
   ]
  },
  {
   "cell_type": "code",
   "execution_count": 39,
   "metadata": {
    "collapsed": true
   },
   "outputs": [],
   "source": [
    "def long_approx(region):\n",
    "    return data['longitude'].loc[(data[\"longitude\"]!=0) & (data[\"latitude\"]!=0) & (data['region_code'] == region)].mean()"
   ]
  },
  {
   "cell_type": "markdown",
   "metadata": {},
   "source": [
    "Finally, i apply those two functions on the latitude and longitude columns to set any missing value to the mean latitude (and longitude) of the corresponding district."
   ]
  },
  {
   "cell_type": "code",
   "execution_count": 40,
   "metadata": {
    "collapsed": false
   },
   "outputs": [],
   "source": [
    "data['latitude'].loc[(data[\"longitude\"]==0) | (data[\"latitude\"]==0)] = data['region_code'].loc[(data[\"longitude\"]==0) | (data[\"latitude\"]==0)].map(lat_approx)\n",
    "data['longitude'].loc[(data[\"longitude\"]==0) | (data[\"latitude\"]==0)] = data['region_code'].loc[(data[\"longitude\"]==0) | (data[\"latitude\"]==0)].map(long_approx)"
   ]
  },
  {
   "cell_type": "markdown",
   "metadata": {
    "collapsed": true
   },
   "source": [
    "I will remove the \"amount_tsh\" column as it has too many missing values. (I consider the value of 0 in the amount_tsh variable as missing value because it does not make sense)"
   ]
  },
  {
   "cell_type": "code",
   "execution_count": 41,
   "metadata": {
    "collapsed": false
   },
   "outputs": [
    {
     "data": {
      "text/plain": [
       "0.70099663299663295"
      ]
     },
     "execution_count": 41,
     "metadata": {},
     "output_type": "execute_result"
    }
   ],
   "source": [
    "data[data['amount_tsh'] == 0]['amount_tsh'].count()/float(data.shape[0])"
   ]
  },
  {
   "cell_type": "markdown",
   "metadata": {},
   "source": [
    "==> 70 % of the amount_tsh values are missing"
   ]
  },
  {
   "cell_type": "code",
   "execution_count": 42,
   "metadata": {
    "collapsed": true
   },
   "outputs": [],
   "source": [
    "columns_to_keep.remove('amount_tsh')"
   ]
  },
  {
   "cell_type": "markdown",
   "metadata": {
    "collapsed": false,
    "scrolled": true
   },
   "source": [
    "### 'Recorded_by' column"
   ]
  },
  {
   "cell_type": "code",
   "execution_count": 43,
   "metadata": {
    "collapsed": false
   },
   "outputs": [
    {
     "data": {
      "text/plain": [
       "GeoData Consultants Ltd    74249\n",
       "Other                          1\n",
       "Name: recorded_by, dtype: int64"
      ]
     },
     "execution_count": 43,
     "metadata": {},
     "output_type": "execute_result"
    }
   ],
   "source": [
    "data['recorded_by'].value_counts()"
   ]
  },
  {
   "cell_type": "markdown",
   "metadata": {},
   "source": [
    "All the data was recorded by 'GeoData Consultants Ltd', so I delete this column."
   ]
  },
  {
   "cell_type": "code",
   "execution_count": 44,
   "metadata": {
    "collapsed": true
   },
   "outputs": [],
   "source": [
    "columns_to_keep.remove('recorded_by')"
   ]
  },
  {
   "cell_type": "markdown",
   "metadata": {},
   "source": [
    "I found that there is a row that has the value of 'Other' in all of its attributes, so let's drop this row."
   ]
  },
  {
   "cell_type": "code",
   "execution_count": 45,
   "metadata": {
    "collapsed": false
   },
   "outputs": [
    {
     "data": {
      "text/html": [
       "<div>\n",
       "<table border=\"1\" class=\"dataframe\">\n",
       "  <thead>\n",
       "    <tr style=\"text-align: right;\">\n",
       "      <th></th>\n",
       "      <th>amount_tsh</th>\n",
       "      <th>date_recorded</th>\n",
       "      <th>funder</th>\n",
       "      <th>gps_height</th>\n",
       "      <th>installer</th>\n",
       "      <th>longitude</th>\n",
       "      <th>latitude</th>\n",
       "      <th>wpt_name</th>\n",
       "      <th>num_private</th>\n",
       "      <th>basin</th>\n",
       "      <th>...</th>\n",
       "      <th>source</th>\n",
       "      <th>source_type</th>\n",
       "      <th>source_class</th>\n",
       "      <th>waterpoint_type</th>\n",
       "      <th>waterpoint_type_group</th>\n",
       "      <th>subset</th>\n",
       "      <th>area</th>\n",
       "      <th>year_recorded</th>\n",
       "      <th>day_recorded</th>\n",
       "      <th>region_and_district</th>\n",
       "    </tr>\n",
       "    <tr>\n",
       "      <th>id</th>\n",
       "      <th></th>\n",
       "      <th></th>\n",
       "      <th></th>\n",
       "      <th></th>\n",
       "      <th></th>\n",
       "      <th></th>\n",
       "      <th></th>\n",
       "      <th></th>\n",
       "      <th></th>\n",
       "      <th></th>\n",
       "      <th></th>\n",
       "      <th></th>\n",
       "      <th></th>\n",
       "      <th></th>\n",
       "      <th></th>\n",
       "      <th></th>\n",
       "      <th></th>\n",
       "      <th></th>\n",
       "      <th></th>\n",
       "      <th></th>\n",
       "      <th></th>\n",
       "    </tr>\n",
       "  </thead>\n",
       "  <tbody>\n",
       "    <tr>\n",
       "      <th>23849</th>\n",
       "      <td>Other</td>\n",
       "      <td>Other</td>\n",
       "      <td>Other</td>\n",
       "      <td>Other</td>\n",
       "      <td>Other</td>\n",
       "      <td>Other</td>\n",
       "      <td>Other</td>\n",
       "      <td>Other</td>\n",
       "      <td>Other</td>\n",
       "      <td>Other</td>\n",
       "      <td>...</td>\n",
       "      <td>Other</td>\n",
       "      <td>Other</td>\n",
       "      <td>Other</td>\n",
       "      <td>Other</td>\n",
       "      <td>Other</td>\n",
       "      <td>Other</td>\n",
       "      <td>Other</td>\n",
       "      <td>Other</td>\n",
       "      <td>Other</td>\n",
       "      <td>Other,Other</td>\n",
       "    </tr>\n",
       "  </tbody>\n",
       "</table>\n",
       "<p>1 rows × 44 columns</p>\n",
       "</div>"
      ],
      "text/plain": [
       "      amount_tsh date_recorded funder gps_height installer longitude latitude  \\\n",
       "id                                                                              \n",
       "23849      Other         Other  Other      Other     Other     Other    Other   \n",
       "\n",
       "      wpt_name num_private  basin         ...         source source_type  \\\n",
       "id                                        ...                              \n",
       "23849    Other       Other  Other         ...          Other       Other   \n",
       "\n",
       "      source_class waterpoint_type waterpoint_type_group subset   area  \\\n",
       "id                                                                       \n",
       "23849        Other           Other                 Other  Other  Other   \n",
       "\n",
       "      year_recorded day_recorded region_and_district  \n",
       "id                                                    \n",
       "23849         Other        Other         Other,Other  \n",
       "\n",
       "[1 rows x 44 columns]"
      ]
     },
     "execution_count": 45,
     "metadata": {},
     "output_type": "execute_result"
    }
   ],
   "source": [
    "data.loc[data['longitude'] == 'Other']"
   ]
  },
  {
   "cell_type": "code",
   "execution_count": 46,
   "metadata": {
    "collapsed": true
   },
   "outputs": [],
   "source": [
    "data = data.drop(23849)"
   ]
  },
  {
   "cell_type": "markdown",
   "metadata": {},
   "source": [
    "Now let's list the columns that I will keep for making predictions"
   ]
  },
  {
   "cell_type": "code",
   "execution_count": 47,
   "metadata": {
    "collapsed": false
   },
   "outputs": [
    {
     "name": "stdout",
     "output_type": "stream",
     "text": [
      "['funder', 'gps_height', 'installer', 'longitude', 'latitude', 'basin', 'region_code', 'ward', 'population', 'public_meeting', 'scheme_management', 'permit', 'construction_year', 'extraction_type', 'management', 'payment_type', 'water_quality', 'quantity', 'source', 'waterpoint_type', 'subset', 'area', 'year_recorded', 'day_recorded']\n"
     ]
    }
   ],
   "source": [
    "print columns_to_keep"
   ]
  },
  {
   "cell_type": "code",
   "execution_count": 48,
   "metadata": {
    "collapsed": false
   },
   "outputs": [
    {
     "data": {
      "text/html": [
       "<div>\n",
       "<table border=\"1\" class=\"dataframe\">\n",
       "  <thead>\n",
       "    <tr style=\"text-align: right;\">\n",
       "      <th></th>\n",
       "      <th>funder</th>\n",
       "      <th>gps_height</th>\n",
       "      <th>installer</th>\n",
       "      <th>longitude</th>\n",
       "      <th>latitude</th>\n",
       "      <th>basin</th>\n",
       "      <th>region_code</th>\n",
       "      <th>ward</th>\n",
       "      <th>population</th>\n",
       "      <th>public_meeting</th>\n",
       "      <th>...</th>\n",
       "      <th>management</th>\n",
       "      <th>payment_type</th>\n",
       "      <th>water_quality</th>\n",
       "      <th>quantity</th>\n",
       "      <th>source</th>\n",
       "      <th>waterpoint_type</th>\n",
       "      <th>subset</th>\n",
       "      <th>area</th>\n",
       "      <th>year_recorded</th>\n",
       "      <th>day_recorded</th>\n",
       "    </tr>\n",
       "    <tr>\n",
       "      <th>id</th>\n",
       "      <th></th>\n",
       "      <th></th>\n",
       "      <th></th>\n",
       "      <th></th>\n",
       "      <th></th>\n",
       "      <th></th>\n",
       "      <th></th>\n",
       "      <th></th>\n",
       "      <th></th>\n",
       "      <th></th>\n",
       "      <th></th>\n",
       "      <th></th>\n",
       "      <th></th>\n",
       "      <th></th>\n",
       "      <th></th>\n",
       "      <th></th>\n",
       "      <th></th>\n",
       "      <th></th>\n",
       "      <th></th>\n",
       "      <th></th>\n",
       "      <th></th>\n",
       "    </tr>\n",
       "  </thead>\n",
       "  <tbody>\n",
       "    <tr>\n",
       "      <th>69572</th>\n",
       "      <td>Roman</td>\n",
       "      <td>1390</td>\n",
       "      <td>Roman</td>\n",
       "      <td>34.9381</td>\n",
       "      <td>-9.85632</td>\n",
       "      <td>Lake Nyasa</td>\n",
       "      <td>11</td>\n",
       "      <td>Mundindi</td>\n",
       "      <td>109</td>\n",
       "      <td>True</td>\n",
       "      <td>...</td>\n",
       "      <td>vwc</td>\n",
       "      <td>annually</td>\n",
       "      <td>soft</td>\n",
       "      <td>enough</td>\n",
       "      <td>spring</td>\n",
       "      <td>communal standpipe</td>\n",
       "      <td>training</td>\n",
       "      <td>other</td>\n",
       "      <td>2011</td>\n",
       "      <td>73</td>\n",
       "    </tr>\n",
       "    <tr>\n",
       "      <th>8776</th>\n",
       "      <td>Grumeti</td>\n",
       "      <td>1399</td>\n",
       "      <td>GRUMETI</td>\n",
       "      <td>34.6988</td>\n",
       "      <td>-2.14747</td>\n",
       "      <td>Lake Victoria</td>\n",
       "      <td>20</td>\n",
       "      <td>Natta</td>\n",
       "      <td>280</td>\n",
       "      <td>True</td>\n",
       "      <td>...</td>\n",
       "      <td>wug</td>\n",
       "      <td>never pay</td>\n",
       "      <td>soft</td>\n",
       "      <td>insufficient</td>\n",
       "      <td>rainwater harvesting</td>\n",
       "      <td>communal standpipe</td>\n",
       "      <td>training</td>\n",
       "      <td>other</td>\n",
       "      <td>2013</td>\n",
       "      <td>65</td>\n",
       "    </tr>\n",
       "    <tr>\n",
       "      <th>34310</th>\n",
       "      <td>Lottery Club</td>\n",
       "      <td>686</td>\n",
       "      <td>World vision</td>\n",
       "      <td>37.4607</td>\n",
       "      <td>-3.82133</td>\n",
       "      <td>Pangani</td>\n",
       "      <td>21</td>\n",
       "      <td>Ngorika</td>\n",
       "      <td>250</td>\n",
       "      <td>True</td>\n",
       "      <td>...</td>\n",
       "      <td>vwc</td>\n",
       "      <td>per bucket</td>\n",
       "      <td>soft</td>\n",
       "      <td>enough</td>\n",
       "      <td>dam</td>\n",
       "      <td>communal standpipe multiple</td>\n",
       "      <td>training</td>\n",
       "      <td>other</td>\n",
       "      <td>2013</td>\n",
       "      <td>56</td>\n",
       "    </tr>\n",
       "    <tr>\n",
       "      <th>67743</th>\n",
       "      <td>Unicef</td>\n",
       "      <td>263</td>\n",
       "      <td>UNICEF</td>\n",
       "      <td>38.4862</td>\n",
       "      <td>-11.1553</td>\n",
       "      <td>Ruvuma / Southern Coast</td>\n",
       "      <td>90</td>\n",
       "      <td>Nanyumbu</td>\n",
       "      <td>58</td>\n",
       "      <td>True</td>\n",
       "      <td>...</td>\n",
       "      <td>vwc</td>\n",
       "      <td>never pay</td>\n",
       "      <td>soft</td>\n",
       "      <td>dry</td>\n",
       "      <td>machine dbh</td>\n",
       "      <td>communal standpipe multiple</td>\n",
       "      <td>training</td>\n",
       "      <td>other</td>\n",
       "      <td>2013</td>\n",
       "      <td>28</td>\n",
       "    </tr>\n",
       "    <tr>\n",
       "      <th>19728</th>\n",
       "      <td>Action In A</td>\n",
       "      <td>0</td>\n",
       "      <td>Artisan</td>\n",
       "      <td>31.1308</td>\n",
       "      <td>-1.82536</td>\n",
       "      <td>Lake Victoria</td>\n",
       "      <td>18</td>\n",
       "      <td>Nyakasimbi</td>\n",
       "      <td>0</td>\n",
       "      <td>True</td>\n",
       "      <td>...</td>\n",
       "      <td>other</td>\n",
       "      <td>never pay</td>\n",
       "      <td>soft</td>\n",
       "      <td>seasonal</td>\n",
       "      <td>rainwater harvesting</td>\n",
       "      <td>communal standpipe</td>\n",
       "      <td>training</td>\n",
       "      <td>other</td>\n",
       "      <td>2011</td>\n",
       "      <td>194</td>\n",
       "    </tr>\n",
       "  </tbody>\n",
       "</table>\n",
       "<p>5 rows × 24 columns</p>\n",
       "</div>"
      ],
      "text/plain": [
       "             funder gps_height     installer longitude latitude  \\\n",
       "id                                                                \n",
       "69572         Roman       1390         Roman   34.9381 -9.85632   \n",
       "8776        Grumeti       1399       GRUMETI   34.6988 -2.14747   \n",
       "34310  Lottery Club        686  World vision   37.4607 -3.82133   \n",
       "67743        Unicef        263        UNICEF   38.4862 -11.1553   \n",
       "19728   Action In A          0       Artisan   31.1308 -1.82536   \n",
       "\n",
       "                         basin region_code        ward population  \\\n",
       "id                                                                  \n",
       "69572               Lake Nyasa          11    Mundindi        109   \n",
       "8776             Lake Victoria          20       Natta        280   \n",
       "34310                  Pangani          21     Ngorika        250   \n",
       "67743  Ruvuma / Southern Coast          90    Nanyumbu         58   \n",
       "19728            Lake Victoria          18  Nyakasimbi          0   \n",
       "\n",
       "      public_meeting     ...      management payment_type water_quality  \\\n",
       "id                       ...                                              \n",
       "69572           True     ...             vwc     annually          soft   \n",
       "8776            True     ...             wug    never pay          soft   \n",
       "34310           True     ...             vwc   per bucket          soft   \n",
       "67743           True     ...             vwc    never pay          soft   \n",
       "19728           True     ...           other    never pay          soft   \n",
       "\n",
       "           quantity                source              waterpoint_type  \\\n",
       "id                                                                       \n",
       "69572        enough                spring           communal standpipe   \n",
       "8776   insufficient  rainwater harvesting           communal standpipe   \n",
       "34310        enough                   dam  communal standpipe multiple   \n",
       "67743           dry           machine dbh  communal standpipe multiple   \n",
       "19728      seasonal  rainwater harvesting           communal standpipe   \n",
       "\n",
       "         subset   area year_recorded day_recorded  \n",
       "id                                                 \n",
       "69572  training  other          2011           73  \n",
       "8776   training  other          2013           65  \n",
       "34310  training  other          2013           56  \n",
       "67743  training  other          2013           28  \n",
       "19728  training  other          2011          194  \n",
       "\n",
       "[5 rows x 24 columns]"
      ]
     },
     "execution_count": 48,
     "metadata": {},
     "output_type": "execute_result"
    }
   ],
   "source": [
    "data_cleaned = data[columns_to_keep]\n",
    "data_cleaned.head()"
   ]
  },
  {
   "cell_type": "code",
   "execution_count": 49,
   "metadata": {
    "collapsed": true
   },
   "outputs": [],
   "source": [
    "data_cleaned.to_csv('processed/all_data_cleaned.csv', encoding='utf-8')"
   ]
  }
 ],
 "metadata": {
  "anaconda-cloud": {},
  "kernelspec": {
   "display_name": "Python [Root]",
   "language": "python",
   "name": "Python [Root]"
  },
  "language_info": {
   "codemirror_mode": {
    "name": "ipython",
    "version": 2
   },
   "file_extension": ".py",
   "mimetype": "text/x-python",
   "name": "python",
   "nbconvert_exporter": "python",
   "pygments_lexer": "ipython2",
   "version": "2.7.12"
  }
 },
 "nbformat": 4,
 "nbformat_minor": 0
}
